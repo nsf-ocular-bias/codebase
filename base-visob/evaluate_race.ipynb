{
 "cells": [
  {
   "cell_type": "code",
   "execution_count": 1,
   "metadata": {},
   "outputs": [],
   "source": [
    "import tensorflow as tf\n",
    "import config\n",
    "import numpy as np\n",
    "import os\n",
    "import model\n",
    "import glob\n"
   ]
  },
  {
   "cell_type": "code",
   "execution_count": 2,
   "metadata": {},
   "outputs": [],
   "source": [
    "def main():\n",
    "    print(\"Running...\", config.config)\n",
    "    # Set Memory Growth\n",
    "    if config.config[\"allow_growth\"]:\n",
    "        config_proto = tf.compat.v1.ConfigProto()\n",
    "        config_proto.gpu_options.allow_growth = True\n",
    "        session = tf.compat.v1.Session(config=config_proto)\n",
    "        tf.compat.v1.keras.backend.set_session(session)\n",
    "\n",
    "    # Set GPU visibility\n",
    "    gpus = config.config[\"train\"][\"gpu\"]\n",
    "    if gpus == [0, 1]:\n",
    "        os.environ[\"CUDA_VISIBLE_DEVICES\"] = \"-1\"\n",
    "    else:\n",
    "        os.environ[\"CUDA_VISIBLE_DEVICES\"] = str(gpus[0])\n",
    "\n",
    "    epochs = config.config[\"train\"][\"epochs\"]\n",
    "    unfreeze_epoch = config.config['train']['unfreeze_epoch']\n",
    "    pretrained = config.config['train']['pretrained']\n",
    "\n",
    "\n",
    "\n",
    "    _model = model.Module()\n",
    "    initial_epoch = 0\n",
    "    weight = config.config['train']['pretrained_weight']\n",
    "    if pretrained:\n",
    "        _model.load_pretrained(weight)\n",
    "        initial_epoch = config.config['train']['pretrained_epoch']\n",
    "\n",
    "    \n",
    "    import pandas as pd\n",
    "    data = pd.read_excel(r\"F:\\Lab\\datasets\\visob\\demographic information_VISOB.xlsx\")"
   ]
  },
  {
   "cell_type": "code",
   "execution_count": 11,
   "metadata": {},
   "outputs": [
    {
     "data": {
      "text/plain": [
       "0      1141\n",
       "1      1142\n",
       "2      1144\n",
       "3      1147\n",
       "4      1148\n",
       "       ... \n",
       "578    6000\n",
       "579    6001\n",
       "580    6002\n",
       "581    6003\n",
       "582    6004\n",
       "Name: ID, Length: 583, dtype: int64"
      ]
     },
     "execution_count": 11,
     "metadata": {},
     "output_type": "execute_result"
    }
   ],
   "source": [
    "import pandas as pd\n",
    "data = pd.read_excel(r\"F:\\Lab\\datasets\\visob\\demographic information_VISOB.xlsx\")\n",
    "data.head()\n",
    "data.ID"
   ]
  },
  {
   "cell_type": "code",
   "execution_count": null,
   "metadata": {},
   "outputs": [],
   "source": [
    "def setup_config():\n",
    "    model = config.config[\"model\"]\n",
    "    class_type = config.config[\"class\"]\n",
    "    finetune = \"finetuned\" if config.config[\"fine-tune\"] else \"base\"\n",
    "    input_type = config.config[\"input\"][\"type\"]\n",
    "    augmented = \"aug\" if config.config[\"input\"][\"randaugment\"] else \"noaug\"\n",
    "    ratio = config.config[\"ratio\"]\n",
    "\n",
    "    run_id = '_'.join([model, \"VISOB\", input_type,\n",
    "                      augmented, class_type, finetune, ratio])\n",
    "                      \n",
    "    # run_id = '_'.join([model, \"UFPR\", input_type,\n",
    "    #                   augmented, class_type, finetune])\n",
    "    config.config[\"run_id\"] = run_id\n",
    "\n",
    "\n",
    "models = [\"EfficientNetB4\", \"DenseNet121\", \"MobileNetV2\", \"InceptionV3\",\n",
    "            \"InceptionResNetV2\", \"ResNet50\", \"VGG19\", \"Xception\", \"EfficientNetB0\"]\n",
    "\n",
    "ckpt_dir = config.config[\"train\"][\"ckpt_dir\"]\n",
    "\n",
    "config.config[\"input\"][\"randaugment\"] = True\n",
    "    \n",
    "config.config[\"mode\"] = \"train\"\n",
    "class_type = \"gender\"\n",
    "for class_type in [\"gender\"]:\n",
    "    config.config[\"class\"] = class_type\n",
    "\n",
    "    # run base models\n",
    "    config.config[\"fine-tune\"] = False\n",
    "    for model in models:\n",
    "        config.config[\"model\"] = model\n",
    "        setup_config()\n",
    "        main.main()\n",
    "\n",
    "    # Run fine tuned\n",
    "    config.config[\"fine-tune\"] = True\n",
    "    for model in models:\n",
    "        config.config[\"model\"] = model\n",
    "        setup_config()\n",
    "        # set pretrained weights\n",
    "        files = glob.glob(os.path.join(\n",
    "            ckpt_dir, config.config[\"run_id\"].replace(\"finetuned\", \"base\") + \"*\"))\n",
    "        files.sort()\n",
    "        config.config[\"train\"][\"pretrained_weight\"] = files[-1]\n",
    "        main()\n"
   ]
  }
 ],
 "metadata": {
  "interpreter": {
   "hash": "30030c8eb72a285f14a9b9a9bb0f2d503ef7c8bbe57528465e9b07c96938a01f"
  },
  "kernelspec": {
   "display_name": "Python 3.8.5 ('env': venv)",
   "language": "python",
   "name": "python3"
  },
  "language_info": {
   "codemirror_mode": {
    "name": "ipython",
    "version": 3
   },
   "file_extension": ".py",
   "mimetype": "text/x-python",
   "name": "python",
   "nbconvert_exporter": "python",
   "pygments_lexer": "ipython3",
   "version": "3.8.5"
  },
  "orig_nbformat": 4
 },
 "nbformat": 4,
 "nbformat_minor": 2
}
