{
 "cells": [
  {
   "cell_type": "code",
   "execution_count": 73,
   "metadata": {},
   "outputs": [],
   "source": [
    "import pandas as pd\n",
    "import glob\n",
    "folder = r\"F:\\Lab\\nfs\\base-notredame\\*.csv\""
   ]
  },
  {
   "cell_type": "code",
   "execution_count": 74,
   "metadata": {},
   "outputs": [],
   "source": [
    "folder = r\"F:\\Lab\\nfs\\base-notredame\\stats\\subject\\F100\\*.csv\"\n",
    "\n",
    "all_data = []\n",
    "for f in glob.glob(folder):\n",
    "    df = pd.read_csv(f, header=1)\n",
    "    # print(df.head())\n",
    "    exp_id = df['Experiment ID'][0]\n",
    "    exp = exp_id.split('_')[-1]\n",
    "    auc = df['AUC'][0]\n",
    "    eer = df['EER'][0]\n",
    "    zero_fmr = df['ZeroFMR'][0]\n",
    "    fmr1000 = df['FMR1000'][0]\n",
    "    fmr100 = df['FMR100'][0]\n",
    "    fmr10 = df['FMR10'][0]\n",
    "    fmr20 = df['FMR20'][0]\n",
    "    exp_id = '_'.join(exp_id.split('_')[:-1])\n",
    "    all_data.append([exp_id, auc, eer, zero_fmr, fmr10, fmr20, fmr100, fmr1000, exp, 'F100'])\n",
    "    # all_data[exp].append([exp_id, auc, eer, zero_fmr, fmr10, fmr20, fmr100, fmr1000])\n",
    "    # all_data.append(list(df.iloc[0]))\n",
    "# print(all_data)"
   ]
  },
  {
   "cell_type": "code",
   "execution_count": 75,
   "metadata": {},
   "outputs": [],
   "source": [
    "folder = r\"F:\\Lab\\nfs\\base-notredame\\stats\\subject\\M100\\*.csv\"\n",
    "for f in glob.glob(folder):\n",
    "    df = pd.read_csv(f, header=1)\n",
    "    # print(df.head())\n",
    "    exp_id = df['Experiment ID'][0]\n",
    "    exp = exp_id.split('_')[-1]\n",
    "    auc = df['AUC'][0]\n",
    "    eer = df['EER'][0]\n",
    "    zero_fmr = df['ZeroFMR'][0]\n",
    "    fmr1000 = df['FMR1000'][0]\n",
    "    fmr100 = df['FMR100'][0]\n",
    "    fmr10 = df['FMR10'][0]\n",
    "    fmr20 = df['FMR20'][0]\n",
    "    exp_id = '_'.join(exp_id.split('_')[:-1])\n",
    "    all_data.append([exp_id, auc, eer, zero_fmr, fmr10, fmr20, fmr100, fmr1000, exp, 'M100'])\n",
    "    # all_data[exp].append([exp_id, auc, eer, zero_fmr, fmr10, fmr20, fmr100, fmr1000])\n",
    "    # all_data.append(list(df.iloc[0]))\n",
    "# print(all_data)"
   ]
  },
  {
   "cell_type": "code",
   "execution_count": 76,
   "metadata": {},
   "outputs": [],
   "source": [
    "folder = r\"F:\\Lab\\nfs\\base-notredame\\stats\\subject\\F50M50\\*.csv\"\n",
    "for f in glob.glob(folder):\n",
    "    df = pd.read_csv(f, header=1)\n",
    "    # print(df.head())\n",
    "    exp_id = df['Experiment ID'][0]\n",
    "    exp = exp_id.split('_')[-1]\n",
    "    auc = df['AUC'][0]\n",
    "    eer = df['EER'][0]\n",
    "    zero_fmr = df['ZeroFMR'][0]\n",
    "    fmr1000 = df['FMR1000'][0]\n",
    "    fmr100 = df['FMR100'][0]\n",
    "    fmr10 = df['FMR10'][0]\n",
    "    fmr20 = df['FMR20'][0]\n",
    "    exp_id = '_'.join(exp_id.split('_')[:-1])\n",
    "    all_data.append([exp_id, auc, eer, zero_fmr, fmr10, fmr20, fmr100, fmr1000, exp, 'F50M50'])\n",
    "    # all_data[exp].append([exp_id, auc, eer, zero_fmr, fmr10, fmr20, fmr100, fmr1000])\n",
    "    # all_data.append(list(df.iloc[0]))\n",
    "# print(all_data)"
   ]
  },
  {
   "cell_type": "code",
   "execution_count": 77,
   "metadata": {},
   "outputs": [
    {
     "data": {
      "text/html": [
       "<div>\n",
       "<style scoped>\n",
       "    .dataframe tbody tr th:only-of-type {\n",
       "        vertical-align: middle;\n",
       "    }\n",
       "\n",
       "    .dataframe tbody tr th {\n",
       "        vertical-align: top;\n",
       "    }\n",
       "\n",
       "    .dataframe thead th {\n",
       "        text-align: right;\n",
       "    }\n",
       "</style>\n",
       "<table border=\"1\" class=\"dataframe\">\n",
       "  <thead>\n",
       "    <tr style=\"text-align: right;\">\n",
       "      <th></th>\n",
       "      <th>Experiment ID</th>\n",
       "      <th>AUC</th>\n",
       "      <th>EER</th>\n",
       "      <th>ZeroFMR</th>\n",
       "      <th>FMR10</th>\n",
       "      <th>FMR20</th>\n",
       "      <th>FMR100</th>\n",
       "      <th>FMR1000</th>\n",
       "      <th>Train Balance</th>\n",
       "      <th>Test Balance</th>\n",
       "    </tr>\n",
       "  </thead>\n",
       "  <tbody>\n",
       "    <tr>\n",
       "      <th>0</th>\n",
       "      <td>DenseNet121</td>\n",
       "      <td>0.985940</td>\n",
       "      <td>0.0562</td>\n",
       "      <td>0.9118</td>\n",
       "      <td>0.0246</td>\n",
       "      <td>0.0640</td>\n",
       "      <td>0.3324</td>\n",
       "      <td>0.7522</td>\n",
       "      <td>F100</td>\n",
       "      <td>F100</td>\n",
       "    </tr>\n",
       "    <tr>\n",
       "      <th>1</th>\n",
       "      <td>DenseNet121</td>\n",
       "      <td>0.988485</td>\n",
       "      <td>0.0440</td>\n",
       "      <td>0.9354</td>\n",
       "      <td>0.0104</td>\n",
       "      <td>0.0364</td>\n",
       "      <td>0.2784</td>\n",
       "      <td>0.8738</td>\n",
       "      <td>F50M50</td>\n",
       "      <td>F100</td>\n",
       "    </tr>\n",
       "    <tr>\n",
       "      <th>2</th>\n",
       "      <td>DenseNet121</td>\n",
       "      <td>0.978797</td>\n",
       "      <td>0.0592</td>\n",
       "      <td>0.9972</td>\n",
       "      <td>0.0212</td>\n",
       "      <td>0.0730</td>\n",
       "      <td>0.5622</td>\n",
       "      <td>0.9820</td>\n",
       "      <td>M100</td>\n",
       "      <td>F100</td>\n",
       "    </tr>\n",
       "    <tr>\n",
       "      <th>3</th>\n",
       "      <td>EfficientNetB0</td>\n",
       "      <td>0.986770</td>\n",
       "      <td>0.0490</td>\n",
       "      <td>0.7740</td>\n",
       "      <td>0.0084</td>\n",
       "      <td>0.0472</td>\n",
       "      <td>0.4238</td>\n",
       "      <td>0.6728</td>\n",
       "      <td>F100</td>\n",
       "      <td>F100</td>\n",
       "    </tr>\n",
       "    <tr>\n",
       "      <th>4</th>\n",
       "      <td>EfficientNetB0</td>\n",
       "      <td>0.987763</td>\n",
       "      <td>0.0405</td>\n",
       "      <td>0.9056</td>\n",
       "      <td>0.0052</td>\n",
       "      <td>0.0246</td>\n",
       "      <td>0.4820</td>\n",
       "      <td>0.7738</td>\n",
       "      <td>F50M50</td>\n",
       "      <td>F100</td>\n",
       "    </tr>\n",
       "  </tbody>\n",
       "</table>\n",
       "</div>"
      ],
      "text/plain": [
       "    Experiment ID       AUC     EER  ZeroFMR   FMR10   FMR20  FMR100  FMR1000  \\\n",
       "0     DenseNet121  0.985940  0.0562   0.9118  0.0246  0.0640  0.3324   0.7522   \n",
       "1     DenseNet121  0.988485  0.0440   0.9354  0.0104  0.0364  0.2784   0.8738   \n",
       "2     DenseNet121  0.978797  0.0592   0.9972  0.0212  0.0730  0.5622   0.9820   \n",
       "3  EfficientNetB0  0.986770  0.0490   0.7740  0.0084  0.0472  0.4238   0.6728   \n",
       "4  EfficientNetB0  0.987763  0.0405   0.9056  0.0052  0.0246  0.4820   0.7738   \n",
       "\n",
       "  Train Balance Test Balance  \n",
       "0          F100         F100  \n",
       "1        F50M50         F100  \n",
       "2          M100         F100  \n",
       "3          F100         F100  \n",
       "4        F50M50         F100  "
      ]
     },
     "execution_count": 77,
     "metadata": {},
     "output_type": "execute_result"
    }
   ],
   "source": [
    "df = pd.DataFrame(all_data)\n",
    "# df.head()\n",
    "df[0] = df[0].apply(lambda x:x.split(\"_\")[0])\n",
    "\n",
    "# df = df[df[8] == \"F75M25\"]\n",
    "\n",
    "df.columns = [\"Experiment ID\", \"AUC\", \"EER\", \"ZeroFMR\", \"FMR10\", \"FMR20\", \"FMR100\", \"FMR1000\", \"Train Balance\", \"Test Balance\"]\n",
    "\n",
    "df.head()"
   ]
  },
  {
   "cell_type": "code",
   "execution_count": 78,
   "metadata": {},
   "outputs": [],
   "source": [
    "df.to_csv(r\"F:\\Lab\\nfs\\base-notredame\\Notredame_verification.csv\")"
   ]
  },
  {
   "cell_type": "code",
   "execution_count": 70,
   "metadata": {},
   "outputs": [
    {
     "name": "stderr",
     "output_type": "stream",
     "text": [
      "Failed to detect the name of this notebook, you can set it manually with the WANDB_NOTEBOOK_NAME environment variable to enable code saving.\n",
      "\u001b[34m\u001b[1mwandb\u001b[0m: Currently logged in as: \u001b[33msreeraj\u001b[0m (use `wandb login --relogin` to force relogin)\n",
      "f:\\Lab\\env\\lib\\site-packages\\IPython\\html.py:12: ShimWarning: The `IPython.html` package has been deprecated since IPython 4.0. You should import from `notebook` instead. `IPython.html.widgets` has moved to `ipywidgets`.\n",
      "  warn(\"The `IPython.html` package has been deprecated since IPython 4.0. \"\n",
      "\u001b[34m\u001b[1mwandb\u001b[0m: wandb version 0.12.6 is available!  To upgrade, please run:\n",
      "\u001b[34m\u001b[1mwandb\u001b[0m:  $ pip install wandb --upgrade\n"
     ]
    },
    {
     "data": {
      "text/html": [
       "\n",
       "                Tracking run with wandb version 0.12.1<br/>\n",
       "                Syncing run <strong style=\"color:#cdcd00\">lucky-puddle-48</strong> to <a href=\"https://wandb.ai\" target=\"_blank\">Weights & Biases</a> <a href=\"https://docs.wandb.com/integrations/jupyter.html\" target=\"_blank\">(Documentation)</a>.<br/>\n",
       "                Project page: <a href=\"https://wandb.ai/sreeraj/UFPR-Ocular\" target=\"_blank\">https://wandb.ai/sreeraj/UFPR-Ocular</a><br/>\n",
       "                Run page: <a href=\"https://wandb.ai/sreeraj/UFPR-Ocular/runs/3kx0s6hs\" target=\"_blank\">https://wandb.ai/sreeraj/UFPR-Ocular/runs/3kx0s6hs</a><br/>\n",
       "                Run data is saved locally in <code>f:\\Lab\\nfs\\base\\wandb\\run-20211102_125220-3kx0s6hs</code><br/><br/>\n",
       "            "
      ],
      "text/plain": [
       "<IPython.core.display.HTML object>"
      ]
     },
     "metadata": {},
     "output_type": "display_data"
    }
   ],
   "source": [
    "import wandb\n",
    "\n",
    "run = wandb.init(project='UFPR-Ocular', entity='sreeraj')\n",
    "\n",
    "run.log({\"UFPR Subject Full Results\": df})"
   ]
  },
  {
   "cell_type": "code",
   "execution_count": 14,
   "metadata": {},
   "outputs": [
    {
     "data": {
      "application/vnd.plotly.v1+json": {
       "config": {
        "plotlyServerURL": "https://plot.ly"
       },
       "data": [
        {
         "alignmentgroup": "True",
         "hovertemplate": "Test Balance=F100<br>Experiment ID=%{x}<br>EER=%{y}<extra></extra>",
         "legendgroup": "F100",
         "marker": {
          "color": "#636efa",
          "pattern": {
           "shape": ""
          }
         },
         "name": "F100",
         "offsetgroup": "F100",
         "orientation": "v",
         "showlegend": true,
         "textposition": "auto",
         "type": "bar",
         "x": [
          "DenseNet121",
          "EfficientNetB0",
          "EfficientNetB4",
          "InceptionResNetV2",
          "InceptionV3",
          "MobileNetV2",
          "ResNet50",
          "VGG19",
          "Xception"
         ],
         "xaxis": "x",
         "y": [
          0.0562,
          0.045,
          0.0516,
          0.0534,
          0.0684,
          0.06,
          0.0584,
          0.0758,
          0.079
         ],
         "yaxis": "y"
        },
        {
         "alignmentgroup": "True",
         "hovertemplate": "Test Balance=M100<br>Experiment ID=%{x}<br>EER=%{y}<extra></extra>",
         "legendgroup": "M100",
         "marker": {
          "color": "#EF553B",
          "pattern": {
           "shape": ""
          }
         },
         "name": "M100",
         "offsetgroup": "M100",
         "orientation": "v",
         "showlegend": true,
         "textposition": "auto",
         "type": "bar",
         "x": [
          "DenseNet121",
          "EfficientNetB0",
          "EfficientNetB4",
          "InceptionResNetV2",
          "InceptionV3",
          "MobileNetV2",
          "ResNet50",
          "VGG19",
          "Xception"
         ],
         "xaxis": "x",
         "y": [
          0.0814,
          0.0682,
          0.0626,
          0.076,
          0.1012,
          0.0888,
          0.0734,
          0.0824,
          0.0898
         ],
         "yaxis": "y"
        },
        {
         "alignmentgroup": "True",
         "hovertemplate": "Test Balance=F50M50<br>Experiment ID=%{x}<br>EER=%{y}<extra></extra>",
         "legendgroup": "F50M50",
         "marker": {
          "color": "#00cc96",
          "pattern": {
           "shape": ""
          }
         },
         "name": "F50M50",
         "offsetgroup": "F50M50",
         "orientation": "v",
         "showlegend": true,
         "textposition": "auto",
         "type": "bar",
         "x": [
          "DenseNet121",
          "EfficientNetB0",
          "EfficientNetB4",
          "InceptionResNetV2",
          "InceptionV3",
          "MobileNetV2",
          "ResNet50",
          "VGG19",
          "Xception"
         ],
         "xaxis": "x",
         "y": [
          0.0596,
          0.0482,
          0.0544,
          0.0582,
          0.072,
          0.0696,
          0.0588,
          0.0734,
          0.0812
         ],
         "yaxis": "y"
        }
       ],
       "layout": {
        "barmode": "group",
        "legend": {
         "title": {
          "text": "Test Balance"
         },
         "tracegroupgap": 0
        },
        "template": {
         "data": {
          "bar": [
           {
            "error_x": {
             "color": "#2a3f5f"
            },
            "error_y": {
             "color": "#2a3f5f"
            },
            "marker": {
             "line": {
              "color": "#E5ECF6",
              "width": 0.5
             },
             "pattern": {
              "fillmode": "overlay",
              "size": 10,
              "solidity": 0.2
             }
            },
            "type": "bar"
           }
          ],
          "barpolar": [
           {
            "marker": {
             "line": {
              "color": "#E5ECF6",
              "width": 0.5
             },
             "pattern": {
              "fillmode": "overlay",
              "size": 10,
              "solidity": 0.2
             }
            },
            "type": "barpolar"
           }
          ],
          "carpet": [
           {
            "aaxis": {
             "endlinecolor": "#2a3f5f",
             "gridcolor": "white",
             "linecolor": "white",
             "minorgridcolor": "white",
             "startlinecolor": "#2a3f5f"
            },
            "baxis": {
             "endlinecolor": "#2a3f5f",
             "gridcolor": "white",
             "linecolor": "white",
             "minorgridcolor": "white",
             "startlinecolor": "#2a3f5f"
            },
            "type": "carpet"
           }
          ],
          "choropleth": [
           {
            "colorbar": {
             "outlinewidth": 0,
             "ticks": ""
            },
            "type": "choropleth"
           }
          ],
          "contour": [
           {
            "colorbar": {
             "outlinewidth": 0,
             "ticks": ""
            },
            "colorscale": [
             [
              0,
              "#0d0887"
             ],
             [
              0.1111111111111111,
              "#46039f"
             ],
             [
              0.2222222222222222,
              "#7201a8"
             ],
             [
              0.3333333333333333,
              "#9c179e"
             ],
             [
              0.4444444444444444,
              "#bd3786"
             ],
             [
              0.5555555555555556,
              "#d8576b"
             ],
             [
              0.6666666666666666,
              "#ed7953"
             ],
             [
              0.7777777777777778,
              "#fb9f3a"
             ],
             [
              0.8888888888888888,
              "#fdca26"
             ],
             [
              1,
              "#f0f921"
             ]
            ],
            "type": "contour"
           }
          ],
          "contourcarpet": [
           {
            "colorbar": {
             "outlinewidth": 0,
             "ticks": ""
            },
            "type": "contourcarpet"
           }
          ],
          "heatmap": [
           {
            "colorbar": {
             "outlinewidth": 0,
             "ticks": ""
            },
            "colorscale": [
             [
              0,
              "#0d0887"
             ],
             [
              0.1111111111111111,
              "#46039f"
             ],
             [
              0.2222222222222222,
              "#7201a8"
             ],
             [
              0.3333333333333333,
              "#9c179e"
             ],
             [
              0.4444444444444444,
              "#bd3786"
             ],
             [
              0.5555555555555556,
              "#d8576b"
             ],
             [
              0.6666666666666666,
              "#ed7953"
             ],
             [
              0.7777777777777778,
              "#fb9f3a"
             ],
             [
              0.8888888888888888,
              "#fdca26"
             ],
             [
              1,
              "#f0f921"
             ]
            ],
            "type": "heatmap"
           }
          ],
          "heatmapgl": [
           {
            "colorbar": {
             "outlinewidth": 0,
             "ticks": ""
            },
            "colorscale": [
             [
              0,
              "#0d0887"
             ],
             [
              0.1111111111111111,
              "#46039f"
             ],
             [
              0.2222222222222222,
              "#7201a8"
             ],
             [
              0.3333333333333333,
              "#9c179e"
             ],
             [
              0.4444444444444444,
              "#bd3786"
             ],
             [
              0.5555555555555556,
              "#d8576b"
             ],
             [
              0.6666666666666666,
              "#ed7953"
             ],
             [
              0.7777777777777778,
              "#fb9f3a"
             ],
             [
              0.8888888888888888,
              "#fdca26"
             ],
             [
              1,
              "#f0f921"
             ]
            ],
            "type": "heatmapgl"
           }
          ],
          "histogram": [
           {
            "marker": {
             "pattern": {
              "fillmode": "overlay",
              "size": 10,
              "solidity": 0.2
             }
            },
            "type": "histogram"
           }
          ],
          "histogram2d": [
           {
            "colorbar": {
             "outlinewidth": 0,
             "ticks": ""
            },
            "colorscale": [
             [
              0,
              "#0d0887"
             ],
             [
              0.1111111111111111,
              "#46039f"
             ],
             [
              0.2222222222222222,
              "#7201a8"
             ],
             [
              0.3333333333333333,
              "#9c179e"
             ],
             [
              0.4444444444444444,
              "#bd3786"
             ],
             [
              0.5555555555555556,
              "#d8576b"
             ],
             [
              0.6666666666666666,
              "#ed7953"
             ],
             [
              0.7777777777777778,
              "#fb9f3a"
             ],
             [
              0.8888888888888888,
              "#fdca26"
             ],
             [
              1,
              "#f0f921"
             ]
            ],
            "type": "histogram2d"
           }
          ],
          "histogram2dcontour": [
           {
            "colorbar": {
             "outlinewidth": 0,
             "ticks": ""
            },
            "colorscale": [
             [
              0,
              "#0d0887"
             ],
             [
              0.1111111111111111,
              "#46039f"
             ],
             [
              0.2222222222222222,
              "#7201a8"
             ],
             [
              0.3333333333333333,
              "#9c179e"
             ],
             [
              0.4444444444444444,
              "#bd3786"
             ],
             [
              0.5555555555555556,
              "#d8576b"
             ],
             [
              0.6666666666666666,
              "#ed7953"
             ],
             [
              0.7777777777777778,
              "#fb9f3a"
             ],
             [
              0.8888888888888888,
              "#fdca26"
             ],
             [
              1,
              "#f0f921"
             ]
            ],
            "type": "histogram2dcontour"
           }
          ],
          "mesh3d": [
           {
            "colorbar": {
             "outlinewidth": 0,
             "ticks": ""
            },
            "type": "mesh3d"
           }
          ],
          "parcoords": [
           {
            "line": {
             "colorbar": {
              "outlinewidth": 0,
              "ticks": ""
             }
            },
            "type": "parcoords"
           }
          ],
          "pie": [
           {
            "automargin": true,
            "type": "pie"
           }
          ],
          "scatter": [
           {
            "marker": {
             "colorbar": {
              "outlinewidth": 0,
              "ticks": ""
             }
            },
            "type": "scatter"
           }
          ],
          "scatter3d": [
           {
            "line": {
             "colorbar": {
              "outlinewidth": 0,
              "ticks": ""
             }
            },
            "marker": {
             "colorbar": {
              "outlinewidth": 0,
              "ticks": ""
             }
            },
            "type": "scatter3d"
           }
          ],
          "scattercarpet": [
           {
            "marker": {
             "colorbar": {
              "outlinewidth": 0,
              "ticks": ""
             }
            },
            "type": "scattercarpet"
           }
          ],
          "scattergeo": [
           {
            "marker": {
             "colorbar": {
              "outlinewidth": 0,
              "ticks": ""
             }
            },
            "type": "scattergeo"
           }
          ],
          "scattergl": [
           {
            "marker": {
             "colorbar": {
              "outlinewidth": 0,
              "ticks": ""
             }
            },
            "type": "scattergl"
           }
          ],
          "scattermapbox": [
           {
            "marker": {
             "colorbar": {
              "outlinewidth": 0,
              "ticks": ""
             }
            },
            "type": "scattermapbox"
           }
          ],
          "scatterpolar": [
           {
            "marker": {
             "colorbar": {
              "outlinewidth": 0,
              "ticks": ""
             }
            },
            "type": "scatterpolar"
           }
          ],
          "scatterpolargl": [
           {
            "marker": {
             "colorbar": {
              "outlinewidth": 0,
              "ticks": ""
             }
            },
            "type": "scatterpolargl"
           }
          ],
          "scatterternary": [
           {
            "marker": {
             "colorbar": {
              "outlinewidth": 0,
              "ticks": ""
             }
            },
            "type": "scatterternary"
           }
          ],
          "surface": [
           {
            "colorbar": {
             "outlinewidth": 0,
             "ticks": ""
            },
            "colorscale": [
             [
              0,
              "#0d0887"
             ],
             [
              0.1111111111111111,
              "#46039f"
             ],
             [
              0.2222222222222222,
              "#7201a8"
             ],
             [
              0.3333333333333333,
              "#9c179e"
             ],
             [
              0.4444444444444444,
              "#bd3786"
             ],
             [
              0.5555555555555556,
              "#d8576b"
             ],
             [
              0.6666666666666666,
              "#ed7953"
             ],
             [
              0.7777777777777778,
              "#fb9f3a"
             ],
             [
              0.8888888888888888,
              "#fdca26"
             ],
             [
              1,
              "#f0f921"
             ]
            ],
            "type": "surface"
           }
          ],
          "table": [
           {
            "cells": {
             "fill": {
              "color": "#EBF0F8"
             },
             "line": {
              "color": "white"
             }
            },
            "header": {
             "fill": {
              "color": "#C8D4E3"
             },
             "line": {
              "color": "white"
             }
            },
            "type": "table"
           }
          ]
         },
         "layout": {
          "annotationdefaults": {
           "arrowcolor": "#2a3f5f",
           "arrowhead": 0,
           "arrowwidth": 1
          },
          "autotypenumbers": "strict",
          "coloraxis": {
           "colorbar": {
            "outlinewidth": 0,
            "ticks": ""
           }
          },
          "colorscale": {
           "diverging": [
            [
             0,
             "#8e0152"
            ],
            [
             0.1,
             "#c51b7d"
            ],
            [
             0.2,
             "#de77ae"
            ],
            [
             0.3,
             "#f1b6da"
            ],
            [
             0.4,
             "#fde0ef"
            ],
            [
             0.5,
             "#f7f7f7"
            ],
            [
             0.6,
             "#e6f5d0"
            ],
            [
             0.7,
             "#b8e186"
            ],
            [
             0.8,
             "#7fbc41"
            ],
            [
             0.9,
             "#4d9221"
            ],
            [
             1,
             "#276419"
            ]
           ],
           "sequential": [
            [
             0,
             "#0d0887"
            ],
            [
             0.1111111111111111,
             "#46039f"
            ],
            [
             0.2222222222222222,
             "#7201a8"
            ],
            [
             0.3333333333333333,
             "#9c179e"
            ],
            [
             0.4444444444444444,
             "#bd3786"
            ],
            [
             0.5555555555555556,
             "#d8576b"
            ],
            [
             0.6666666666666666,
             "#ed7953"
            ],
            [
             0.7777777777777778,
             "#fb9f3a"
            ],
            [
             0.8888888888888888,
             "#fdca26"
            ],
            [
             1,
             "#f0f921"
            ]
           ],
           "sequentialminus": [
            [
             0,
             "#0d0887"
            ],
            [
             0.1111111111111111,
             "#46039f"
            ],
            [
             0.2222222222222222,
             "#7201a8"
            ],
            [
             0.3333333333333333,
             "#9c179e"
            ],
            [
             0.4444444444444444,
             "#bd3786"
            ],
            [
             0.5555555555555556,
             "#d8576b"
            ],
            [
             0.6666666666666666,
             "#ed7953"
            ],
            [
             0.7777777777777778,
             "#fb9f3a"
            ],
            [
             0.8888888888888888,
             "#fdca26"
            ],
            [
             1,
             "#f0f921"
            ]
           ]
          },
          "colorway": [
           "#636efa",
           "#EF553B",
           "#00cc96",
           "#ab63fa",
           "#FFA15A",
           "#19d3f3",
           "#FF6692",
           "#B6E880",
           "#FF97FF",
           "#FECB52"
          ],
          "font": {
           "color": "#2a3f5f"
          },
          "geo": {
           "bgcolor": "white",
           "lakecolor": "white",
           "landcolor": "#E5ECF6",
           "showlakes": true,
           "showland": true,
           "subunitcolor": "white"
          },
          "hoverlabel": {
           "align": "left"
          },
          "hovermode": "closest",
          "mapbox": {
           "style": "light"
          },
          "paper_bgcolor": "white",
          "plot_bgcolor": "#E5ECF6",
          "polar": {
           "angularaxis": {
            "gridcolor": "white",
            "linecolor": "white",
            "ticks": ""
           },
           "bgcolor": "#E5ECF6",
           "radialaxis": {
            "gridcolor": "white",
            "linecolor": "white",
            "ticks": ""
           }
          },
          "scene": {
           "xaxis": {
            "backgroundcolor": "#E5ECF6",
            "gridcolor": "white",
            "gridwidth": 2,
            "linecolor": "white",
            "showbackground": true,
            "ticks": "",
            "zerolinecolor": "white"
           },
           "yaxis": {
            "backgroundcolor": "#E5ECF6",
            "gridcolor": "white",
            "gridwidth": 2,
            "linecolor": "white",
            "showbackground": true,
            "ticks": "",
            "zerolinecolor": "white"
           },
           "zaxis": {
            "backgroundcolor": "#E5ECF6",
            "gridcolor": "white",
            "gridwidth": 2,
            "linecolor": "white",
            "showbackground": true,
            "ticks": "",
            "zerolinecolor": "white"
           }
          },
          "shapedefaults": {
           "line": {
            "color": "#2a3f5f"
           }
          },
          "ternary": {
           "aaxis": {
            "gridcolor": "white",
            "linecolor": "white",
            "ticks": ""
           },
           "baxis": {
            "gridcolor": "white",
            "linecolor": "white",
            "ticks": ""
           },
           "bgcolor": "#E5ECF6",
           "caxis": {
            "gridcolor": "white",
            "linecolor": "white",
            "ticks": ""
           }
          },
          "title": {
           "x": 0.05
          },
          "xaxis": {
           "automargin": true,
           "gridcolor": "white",
           "linecolor": "white",
           "ticks": "",
           "title": {
            "standoff": 15
           },
           "zerolinecolor": "white",
           "zerolinewidth": 2
          },
          "yaxis": {
           "automargin": true,
           "gridcolor": "white",
           "linecolor": "white",
           "ticks": "",
           "title": {
            "standoff": 15
           },
           "zerolinecolor": "white",
           "zerolinewidth": 2
          }
         }
        },
        "title": {
         "text": "Train Balance : F75M25"
        },
        "xaxis": {
         "anchor": "y",
         "domain": [
          0,
          1
         ],
         "title": {
          "text": "Experiment ID"
         }
        },
        "yaxis": {
         "anchor": "x",
         "domain": [
          0,
          1
         ],
         "title": {
          "text": "EER"
         },
         "type": "log"
        }
       }
      }
     },
     "metadata": {},
     "output_type": "display_data"
    },
    {
     "data": {
      "text/html": [
       "Finishing last run (ID:v1gys1j8) before initializing another..."
      ],
      "text/plain": [
       "<IPython.core.display.HTML object>"
      ]
     },
     "metadata": {},
     "output_type": "display_data"
    },
    {
     "data": {
      "text/html": [
       "<br/>Waiting for W&B process to finish, PID 6784<br/>Program ended successfully."
      ],
      "text/plain": [
       "<IPython.core.display.HTML object>"
      ]
     },
     "metadata": {},
     "output_type": "display_data"
    },
    {
     "data": {
      "text/html": [
       "Find user logs for this run at: <code>f:\\Lab\\nfs\\base\\wandb\\run-20210927_103020-v1gys1j8\\logs\\debug.log</code>"
      ],
      "text/plain": [
       "<IPython.core.display.HTML object>"
      ]
     },
     "metadata": {},
     "output_type": "display_data"
    },
    {
     "data": {
      "text/html": [
       "Find internal logs for this run at: <code>f:\\Lab\\nfs\\base\\wandb\\run-20210927_103020-v1gys1j8\\logs\\debug-internal.log</code>"
      ],
      "text/plain": [
       "<IPython.core.display.HTML object>"
      ]
     },
     "metadata": {},
     "output_type": "display_data"
    },
    {
     "data": {
      "text/html": [
       "<h3>Run summary:</h3><br/><style>\n",
       "    table.wandb td:nth-child(1) { padding: 0 10px; text-align: right }\n",
       "    </style><table class=\"wandb\">\n",
       "<tr><td>_runtime</td><td>8</td></tr><tr><td>_timestamp</td><td>1632756633</td></tr><tr><td>_step</td><td>0</td></tr></table>"
      ],
      "text/plain": [
       "<IPython.core.display.HTML object>"
      ]
     },
     "metadata": {},
     "output_type": "display_data"
    },
    {
     "data": {
      "text/html": [
       "<h3>Run history:</h3><br/><style>\n",
       "    table.wandb td:nth-child(1) { padding: 0 10px; text-align: right }\n",
       "    </style><table class=\"wandb\">\n",
       "<tr><td>_runtime</td><td>▁</td></tr><tr><td>_timestamp</td><td>▁</td></tr><tr><td>_step</td><td>▁</td></tr></table><br/>"
      ],
      "text/plain": [
       "<IPython.core.display.HTML object>"
      ]
     },
     "metadata": {},
     "output_type": "display_data"
    },
    {
     "data": {
      "text/html": [
       "Synced 4 W&B file(s), 1 media file(s), 0 artifact file(s) and 0 other file(s)"
      ],
      "text/plain": [
       "<IPython.core.display.HTML object>"
      ]
     },
     "metadata": {},
     "output_type": "display_data"
    },
    {
     "data": {
      "text/html": [
       "\n",
       "                    <br/>Synced <strong style=\"color:#cdcd00\">sage-resonance-35</strong>: <a href=\"https://wandb.ai/sreeraj/UFPR-Ocular/runs/v1gys1j8\" target=\"_blank\">https://wandb.ai/sreeraj/UFPR-Ocular/runs/v1gys1j8</a><br/>\n",
       "                "
      ],
      "text/plain": [
       "<IPython.core.display.HTML object>"
      ]
     },
     "metadata": {},
     "output_type": "display_data"
    },
    {
     "data": {
      "text/html": [
       "...Successfully finished last run (ID:v1gys1j8). Initializing new run:<br/><br/>"
      ],
      "text/plain": [
       "<IPython.core.display.HTML object>"
      ]
     },
     "metadata": {},
     "output_type": "display_data"
    },
    {
     "name": "stderr",
     "output_type": "stream",
     "text": [
      "\u001b[34m\u001b[1mwandb\u001b[0m: wandb version 0.12.2 is available!  To upgrade, please run:\n",
      "\u001b[34m\u001b[1mwandb\u001b[0m:  $ pip install wandb --upgrade\n"
     ]
    },
    {
     "data": {
      "text/html": [
       "\n",
       "                Tracking run with wandb version 0.12.1<br/>\n",
       "                Syncing run <strong style=\"color:#cdcd00\">dashing-wave-36</strong> to <a href=\"https://wandb.ai\" target=\"_blank\">Weights & Biases</a> <a href=\"https://docs.wandb.com/integrations/jupyter.html\" target=\"_blank\">(Documentation)</a>.<br/>\n",
       "                Project page: <a href=\"https://wandb.ai/sreeraj/UFPR-Ocular\" target=\"_blank\">https://wandb.ai/sreeraj/UFPR-Ocular</a><br/>\n",
       "                Run page: <a href=\"https://wandb.ai/sreeraj/UFPR-Ocular/runs/4bo26tq9\" target=\"_blank\">https://wandb.ai/sreeraj/UFPR-Ocular/runs/4bo26tq9</a><br/>\n",
       "                Run data is saved locally in <code>f:\\Lab\\nfs\\base\\wandb\\run-20210927_103036-4bo26tq9</code><br/><br/>\n",
       "            "
      ],
      "text/plain": [
       "<IPython.core.display.HTML object>"
      ]
     },
     "metadata": {},
     "output_type": "display_data"
    }
   ],
   "source": [
    "import plotly.express as px\n",
    "\n",
    "import plotly.graph_objects as go\n",
    "\n",
    "# Group by Network, Train Balance, TestBalance\n",
    "df_ = df[df[\"Train Balance\"] == \"F75M25\"]\n",
    "fig = px.bar(df_, x=\"Experiment ID\", y=\"EER\", color=\"Test Balance\", \n",
    "                 title=\"Train Balance : F75M25\",  barmode='group', log_y=True)\n",
    "fig.show()\n",
    "\n",
    "import wandb\n",
    "\n",
    "run = wandb.init(project='UFPR-Ocular', entity='sreeraj')\n",
    "\n",
    "run.log({\"Train Balance : F75M25 (EER)\": fig})\n"
   ]
  },
  {
   "cell_type": "code",
   "execution_count": null,
   "metadata": {},
   "outputs": [],
   "source": []
  },
  {
   "cell_type": "code",
   "execution_count": 62,
   "metadata": {},
   "outputs": [
    {
     "name": "stderr",
     "output_type": "stream",
     "text": [
      "100%|██████████| 10954/10954 [01:19<00:00, 137.65it/s]\n"
     ]
    }
   ],
   "source": [
    "import glob\n",
    "import cv2\n",
    "import numpy as np\n",
    "from tqdm import tqdm\n",
    "import matplotlib.pyplot as plt\n",
    "R_ = np.zeros(256)\n",
    "G_ = np.zeros(256)\n",
    "B_ = np.zeros(256)\n",
    "for f in tqdm(glob.glob(r\"F:\\Lab\\datasets\\fairface\\fairface-img-margin025-trainval\\val\\*\")):\n",
    "    img = cv2.imread(f)\n",
    "    img = cv2.cvtColor(img, cv2.COLOR_BGR2RGB)\n",
    "    r = img[:,:, 0]\n",
    "    g = img[:,:, 1]\n",
    "    b = img[:,:, 2]\n",
    "\n",
    "    R_ += np.array(np.histogram(r, bins=256, range=(0, 255),)[0])\n",
    "    B_ += np.array(np.histogram(b, bins=256, range=(0, 255),)[0])\n",
    "    G_ += np.array(np.histogram(g, bins=256, range=(0, 255),)[0])\n",
    "    "
   ]
  },
  {
   "cell_type": "code",
   "execution_count": 37,
   "metadata": {},
   "outputs": [
    {
     "data": {
      "text/plain": [
       "[<matplotlib.lines.Line2D at 0x16aafeb9bb0>]"
      ]
     },
     "execution_count": 37,
     "metadata": {},
     "output_type": "execute_result"
    },
    {
     "data": {
      "image/png": "[encoded data removed]",
      "text/plain": [
       "<Figure size 432x288 with 1 Axes>"
      ]
     },
     "metadata": {
      "needs_background": "light"
     },
     "output_type": "display_data"
    }
   ],
   "source": [
    "plt.plot(range(256), B, )"
   ]
  },
  {
   "cell_type": "code",
   "execution_count": 58,
   "metadata": {},
   "outputs": [
    {
     "name": "stderr",
     "output_type": "stream",
     "text": [
      "100%|██████████| 10954/10954 [01:08<00:00, 159.39it/s]\n"
     ]
    }
   ],
   "source": [
    "import glob\n",
    "import tensorflow as tf\n",
    "import cv2\n",
    "import numpy as np\n",
    "from tqdm import tqdm\n",
    "import matplotlib.pyplot as plt\n",
    "R = np.zeros(512)\n",
    "G = np.zeros(512)\n",
    "B = np.zeros(512)\n",
    "for f in tqdm(glob.glob(r\"F:\\Lab\\datasets\\fairface\\fairface-img-margin025-trainval\\val\\*\")):\n",
    "    img = cv2.imread(f)\n",
    "    img = cv2.cvtColor(img, cv2.COLOR_BGR2RGB)\n",
    "    img = tf.keras.applications.resnet.preprocess_input(img)\n",
    "    r = img[:,:, 0]\n",
    "    g = img[:,:, 1]\n",
    "    b = img[:,:, 2]\n",
    "    R += np.array(np.histogram(r, bins=512, range=(-256, 255),)[0])\n",
    "    B += np.array(np.histogram(b, bins=512, range=(-256, 255),)[0])\n",
    "    G += np.array(np.histogram(g, bins=512, range=(-256, 255),)[0])\n",
    "    "
   ]
  },
  {
   "cell_type": "code",
   "execution_count": 72,
   "metadata": {},
   "outputs": [
    {
     "data": {
      "text/plain": [
       "[<matplotlib.lines.Line2D at 0x16adeefef40>]"
      ]
     },
     "execution_count": 72,
     "metadata": {},
     "output_type": "execute_result"
    },
    {
     "data": {
      "image/png": "[encoded data removed]",
      "text/plain": [
       "<Figure size 432x288 with 1 Axes>"
      ]
     },
     "metadata": {
      "needs_background": "light"
     },
     "output_type": "display_data"
    },
    {
     "name": "stderr",
     "output_type": "stream",
     "text": [
      "\u001b[34m\u001b[1mwandb\u001b[0m: Network error resolved after 0:00:39.650741, resuming normal operation.\n"
     ]
    }
   ],
   "source": [
    "# plt.plot(range(256), R_, color='r')\n",
    "# plt.plot(range(256), G_, color='g')\n",
    "# plt.plot(range(256), B_, color='b')\n",
    "plt.plot(range(-256, 256), R, color='r')\n",
    "plt.plot(range(-256, 256), G , color='g')\n",
    "plt.plot(range(-256, 256), B , color='b')"
   ]
  },
  {
   "cell_type": "code",
   "execution_count": null,
   "metadata": {},
   "outputs": [],
   "source": [
    "import wandb\n",
    "\n",
    "run = wandb.init(project='UFPR-Ocular', entity='sreeraj')\n",
    "\n",
    "\n",
    "import plotly.express as px\n",
    "\n",
    "\n",
    "my_table = wandb.Table(columns=[\"Experiment ID\", \"AUC\", \"EER\", \"ZeroFMR\", \"FMR10\", \"FMR20\", \"FMR100\", \"FMR1000\", \"DataBalance\"], data=df)\n",
    "run.log({\"verification_table15\": my_table})"
   ]
  },
  {
   "cell_type": "code",
   "execution_count": null,
   "metadata": {},
   "outputs": [],
   "source": [
    "header = list(df.iloc[0])\n",
    "header[-5:] = list(df.columns)[-5:]\n",
    "\n",
    "\n",
    "df_new = pd.DataFrame(all_data, columns=header)\n",
    "\n",
    "df_new.head()\n",
    "# df_new.to_csv(r\"F:\\Lab\\nfs\\base\\stats\\open_world_f75m25.csv\")"
   ]
  },
  {
   "cell_type": "code",
   "execution_count": null,
   "metadata": {},
   "outputs": [],
   "source": [
    "gender_df = pd.read_csv(r\"F:\\Lab\\datasets\\UFPR-Periocular\\UFPR-Periocular\\experimentalProtocol\\open_world_valopen\\test_fold1.txt\", header=None, sep=' ', usecols=[0, 3])\n",
    "gender_df[0] = gender_df[0].apply(lambda x: x.split('.')[0][:-1] + '.jpg')\n",
    "\n",
    "gender_df = gender_df[gender_df[3] == 1]\n",
    "# gender_df[0] = gender_df[0].apply(lambda x: os.path.join(train_dir, x))\n",
    "gender_df.head()\n"
   ]
  },
  {
   "cell_type": "code",
   "execution_count": null,
   "metadata": {},
   "outputs": [],
   "source": [
    "gender_df[2] = gender_df[0].apply(lambda x: x[1:5])"
   ]
  },
  {
   "cell_type": "code",
   "execution_count": null,
   "metadata": {},
   "outputs": [],
   "source": [
    "def generate(num=5000):\n",
    "    res = []\n",
    "    from random import choice\n",
    "\n",
    "    # select same\n",
    "    for i in range(num):\n",
    "        elem1 = gender_df.sample()\n",
    "        elem2 = gender_df[gender_df[2] == elem1[2].iloc[0]].sample()\n",
    "        while elem1[0].iloc[0] == elem2[0].iloc[0]:\n",
    "            elem2 = gender_df[gender_df[2] == elem1[2].iloc[0]].sample()\n",
    "        res.append((elem1[0].iloc[0], elem2[0].iloc[0], 0))\n",
    "    \n",
    "\n",
    "    for i in range(num):\n",
    "        elem1 = gender_df.sample()\n",
    "        elem2 = gender_df[gender_df[2] != elem1[2].iloc[0]].sample()\n",
    "        res.append((elem1[0].iloc[0], elem2[0].iloc[0], 1))\n",
    "    return res\n",
    "df = generate()\n",
    "\n",
    "df = pd.DataFrame(df)\n",
    "\n",
    "df.head()"
   ]
  },
  {
   "cell_type": "code",
   "execution_count": null,
   "metadata": {},
   "outputs": [],
   "source": [
    "df[df[0] == df[1]]"
   ]
  },
  {
   "cell_type": "code",
   "execution_count": 85,
   "metadata": {},
   "outputs": [],
   "source": [
    "import shutil\n",
    "\n",
    "import pandas as pd\n",
    "import os\n",
    "\n",
    "df = pd.read_csv(r\"F:\\Lab\\nfs\\base-notredame\\weights.txt\", header=None)\n",
    "\n",
    "df = df[0]\n",
    "for f in df:\n",
    "    fn = f.split(os.path.sep)\n",
    "    fn[-2] = \"final_weights\"\n",
    "    fn = os.path.sep.join(fn)\n",
    "    shutil.move(f, fn)"
   ]
  },
  {
   "cell_type": "code",
   "execution_count": 18,
   "metadata": {},
   "outputs": [],
   "source": [
    "from glob import glob\n",
    "import numpy as np\n",
    "import pandas as pd\n",
    "\n",
    "df = pd.read_csv(r\"F:\\Lab\\nfs\\nsf-ocular-bias\\content\\updates\\notredame-results\\assets\\Notredame_gender.csv\")\n",
    "df = df[df['Train Balance'] == 'F75M25']\n",
    "df.to_csv('test.csv', sep=' ')"
   ]
  }
 ],
 "metadata": {
  "interpreter": {
   "hash": "30030c8eb72a285f14a9b9a9bb0f2d503ef7c8bbe57528465e9b07c96938a01f"
  },
  "kernelspec": {
   "display_name": "Python 3.8.5 64-bit ('env': venv)",
   "name": "python3"
  },
  "language_info": {
   "codemirror_mode": {
    "name": "ipython",
    "version": 3
   },
   "file_extension": ".py",
   "mimetype": "text/x-python",
   "name": "python",
   "nbconvert_exporter": "python",
   "pygments_lexer": "ipython3",
   "version": "3.8.5"
  },
  "orig_nbformat": 4
 },
 "nbformat": 4,
 "nbformat_minor": 2
}
